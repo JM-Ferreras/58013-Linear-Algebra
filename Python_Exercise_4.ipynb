{
  "nbformat": 4,
  "nbformat_minor": 0,
  "metadata": {
    "colab": {
      "provenance": [],
      "authorship_tag": "ABX9TyNYFa6+/pDnmTL4NHqlptKI",
      "include_colab_link": true
    },
    "kernelspec": {
      "name": "python3",
      "display_name": "Python 3"
    },
    "language_info": {
      "name": "python"
    }
  },
  "cells": [
    {
      "cell_type": "markdown",
      "metadata": {
        "id": "view-in-github",
        "colab_type": "text"
      },
      "source": [
        "<a href=\"https://colab.research.google.com/github/JM-Ferreras/58013-Linear-Algebra/blob/main/Python_Exercise_4.ipynb\" target=\"_parent\"><img src=\"https://colab.research.google.com/assets/colab-badge.svg\" alt=\"Open In Colab\"/></a>"
      ]
    },
    {
      "cell_type": "code",
      "execution_count": 15,
      "metadata": {
        "id": "E7d1Mp2p5ErR"
      },
      "outputs": [],
      "source": [
        "import numpy as np\n",
        "A = np.array([[-0.4],[4.3],[-0.6]])\n",
        "B = np.array([-0.2,0.2,1])\n",
        "C = np.array([-0.2,2.1,-1.5])"
      ]
    },
    {
      "cell_type": "code",
      "source": [
        "#Add\n",
        "s=A+B+C\n",
        "print(s)"
      ],
      "metadata": {
        "colab": {
          "base_uri": "https://localhost:8080/"
        },
        "id": "ScEPw8gW_dzy",
        "outputId": "54331495-f3a5-400f-e2fa-3e44863daa15"
      },
      "execution_count": 16,
      "outputs": [
        {
          "output_type": "stream",
          "name": "stdout",
          "text": [
            "[[-0.8  1.9 -0.9]\n",
            " [ 3.9  6.6  3.8]\n",
            " [-1.   1.7 -1.1]]\n"
          ]
        }
      ]
    },
    {
      "cell_type": "code",
      "source": [
        "#Subtract\n",
        "d=A-B-C\n",
        "print(d)\n"
      ],
      "metadata": {
        "colab": {
          "base_uri": "https://localhost:8080/"
        },
        "id": "yuPh_qkU_gkA",
        "outputId": "57b344cd-dbb0-4d2b-abdf-ee810cd276cd"
      },
      "execution_count": 17,
      "outputs": [
        {
          "output_type": "stream",
          "name": "stdout",
          "text": [
            "[[ 0.  -2.7  0.1]\n",
            " [ 4.7  2.   4.8]\n",
            " [-0.2 -2.9 -0.1]]\n"
          ]
        }
      ]
    },
    {
      "cell_type": "code",
      "source": [
        "#Multiply\n",
        "p=A*B*C\n",
        "print(p)"
      ],
      "metadata": {
        "colab": {
          "base_uri": "https://localhost:8080/"
        },
        "id": "NdsNHXg5_qUY",
        "outputId": "7d2583c9-7117-4d05-8d9e-e8861a1ea618"
      },
      "execution_count": 18,
      "outputs": [
        {
          "output_type": "stream",
          "name": "stdout",
          "text": [
            "[[-0.016 -0.168  0.6  ]\n",
            " [ 0.172  1.806 -6.45 ]\n",
            " [-0.024 -0.252  0.9  ]]\n"
          ]
        }
      ]
    },
    {
      "cell_type": "code",
      "source": [
        "#Divide\n",
        "q=A/B/C\n",
        "print(q)"
      ],
      "metadata": {
        "colab": {
          "base_uri": "https://localhost:8080/"
        },
        "id": "Bt0KUKSh_se4",
        "outputId": "0861d979-3f29-4eab-b9e1-6f30734e6699"
      },
      "execution_count": 19,
      "outputs": [
        {
          "output_type": "stream",
          "name": "stdout",
          "text": [
            "[[-10.          -0.95238095   0.26666667]\n",
            " [107.5         10.23809524  -2.86666667]\n",
            " [-15.          -1.42857143   0.4       ]]\n"
          ]
        }
      ]
    }
  ]
}