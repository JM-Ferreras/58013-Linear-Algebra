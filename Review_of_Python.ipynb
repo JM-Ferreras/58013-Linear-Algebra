{
  "nbformat": 4,
  "nbformat_minor": 0,
  "metadata": {
    "colab": {
      "provenance": [],
      "authorship_tag": "ABX9TyOhARe0cW9fG44NpiPYjpP+",
      "include_colab_link": true
    },
    "kernelspec": {
      "name": "python3",
      "display_name": "Python 3"
    },
    "language_info": {
      "name": "python"
    }
  },
  "cells": [
    {
      "cell_type": "markdown",
      "metadata": {
        "id": "view-in-github",
        "colab_type": "text"
      },
      "source": [
        "<a href=\"https://colab.research.google.com/github/JM-Ferreras/58013-Linear-Algebra/blob/main/Review_of_Python.ipynb\" target=\"_parent\"><img src=\"https://colab.research.google.com/assets/colab-badge.svg\" alt=\"Open In Colab\"/></a>"
      ]
    },
    {
      "cell_type": "code",
      "execution_count": 1,
      "metadata": {
        "colab": {
          "base_uri": "https://localhost:8080/"
        },
        "id": "U1D7yDutiDB5",
        "outputId": "6f217b77-881b-4203-fa3b-5085c9961b33"
      },
      "outputs": [
        {
          "output_type": "stream",
          "name": "stdout",
          "text": [
            "5 is greater than 2\n"
          ]
        }
      ],
      "source": [
        "if 5>2:\n",
        "  print(\"5 is greater than 2\")"
      ]
    },
    {
      "cell_type": "code",
      "source": [
        "#Python comments\n",
        "\n",
        "#this is a comment\n",
        "print(\"Hello Digger\")"
      ],
      "metadata": {
        "colab": {
          "base_uri": "https://localhost:8080/"
        },
        "id": "YG9uba7lidGh",
        "outputId": "7b333322-92ef-447b-afcd-ba9507887f48"
      },
      "execution_count": 8,
      "outputs": [
        {
          "output_type": "stream",
          "name": "stdout",
          "text": [
            "Hello Digger\n"
          ]
        }
      ]
    },
    {
      "cell_type": "code",
      "source": [
        "#python variable\n",
        "x=1\n",
        "a, b ,c = 0, -1, 2\n",
        "d = \"BIGGER\"\n",
        "print(a)\n",
        "print(b)\n",
        "print(c)\n",
        "print(d)"
      ],
      "metadata": {
        "colab": {
          "base_uri": "https://localhost:8080/"
        },
        "id": "yEI1AcIGis5I",
        "outputId": "24e38d66-e3ee-4cf4-c053-6a9c19a88940"
      },
      "execution_count": 7,
      "outputs": [
        {
          "output_type": "stream",
          "name": "stdout",
          "text": [
            "0\n",
            "-1\n",
            "2\n",
            "BIGGER\n"
          ]
        }
      ]
    },
    {
      "cell_type": "code",
      "source": [
        "#Casting\n",
        "b=\"Soaring Salmons\"\n",
        "b=int(4)\n",
        "print(b)\n",
        "\n",
        "b=float(4)\n",
        "print(b)"
      ],
      "metadata": {
        "colab": {
          "base_uri": "https://localhost:8080/"
        },
        "id": "lGUS6v1XjpCy",
        "outputId": "475115ce-51b1-454d-9c60-60832b6ae83b"
      },
      "execution_count": 9,
      "outputs": [
        {
          "output_type": "stream",
          "name": "stdout",
          "text": [
            "4\n",
            "4.0\n"
          ]
        }
      ]
    },
    {
      "cell_type": "code",
      "source": [
        "#Type() function\n",
        "x=5\n",
        "y=\"Tyrone\"\n",
        "print(type(x))\n",
        "print(type(y))"
      ],
      "metadata": {
        "colab": {
          "base_uri": "https://localhost:8080/"
        },
        "id": "dYQQSMJSkRhK",
        "outputId": "9b3292d0-3144-4a78-df02-93132092d271"
      },
      "execution_count": 10,
      "outputs": [
        {
          "output_type": "stream",
          "name": "stdout",
          "text": [
            "<class 'int'>\n",
            "<class 'str'>\n"
          ]
        }
      ]
    },
    {
      "cell_type": "code",
      "source": [
        "#double quote or single quote\n",
        "y=\"Nate Higgers\"\n",
        "x='Nate Higgers'"
      ],
      "metadata": {
        "id": "n2BX0iIlkpJp"
      },
      "execution_count": null,
      "outputs": []
    },
    {
      "cell_type": "code",
      "source": [
        "#Case Sensitive\n",
        "\n",
        "a='Soaring Salmons'\n",
        "A='Letraknights'\n",
        "#a will not overwrite A"
      ],
      "metadata": {
        "id": "ug9kaUFNlYgz"
      },
      "execution_count": null,
      "outputs": []
    },
    {
      "cell_type": "code",
      "source": [
        "#Multiple variables\n",
        "e, f, g = \"five\", \"six\", \"seven\"\n",
        "print(e)\n",
        "print(f)\n",
        "print(g)\n",
        "e"
      ],
      "metadata": {
        "colab": {
          "base_uri": "https://localhost:8080/",
          "height": 87
        },
        "id": "A82nDCwilru5",
        "outputId": "bb8ea0f7-06a8-47a8-a56d-68d750657715"
      },
      "execution_count": 13,
      "outputs": [
        {
          "output_type": "stream",
          "name": "stdout",
          "text": [
            "five\n",
            "six\n",
            "seven\n"
          ]
        },
        {
          "output_type": "execute_result",
          "data": {
            "text/plain": [
              "'five'"
            ],
            "application/vnd.google.colaboratory.intrinsic+json": {
              "type": "string"
            }
          },
          "metadata": {},
          "execution_count": 13
        }
      ]
    },
    {
      "cell_type": "code",
      "source": [
        "#one value to multiple variables\n",
        "x=y=z=\"beanuts\"\n",
        "print(x)\n",
        "print(y)\n",
        "print(z)"
      ],
      "metadata": {
        "colab": {
          "base_uri": "https://localhost:8080/"
        },
        "id": "cmL85mpnl49A",
        "outputId": "90103924-2f56-4600-ccc2-c90f6a77e609"
      },
      "execution_count": 15,
      "outputs": [
        {
          "output_type": "stream",
          "name": "stdout",
          "text": [
            "beanuts\n",
            "beanuts\n",
            "beanuts\n"
          ]
        }
      ]
    },
    {
      "cell_type": "code",
      "source": [
        "#Output variables\n",
        "x=\"enjoyable\"\n",
        "print(\"programming is\",x)"
      ],
      "metadata": {
        "colab": {
          "base_uri": "https://localhost:8080/"
        },
        "id": "DuUlrAX9mPc7",
        "outputId": "14b287e8-b38a-4f7e-9e03-f40c2a71fa6f"
      },
      "execution_count": 19,
      "outputs": [
        {
          "output_type": "stream",
          "name": "stdout",
          "text": [
            "programming is enjoyable\n"
          ]
        }
      ]
    },
    {
      "cell_type": "code",
      "source": [
        "#other way\n",
        "x=\"pythons are \"\n",
        "y=\"large\"\n",
        "z=x+y\n",
        "print(z)"
      ],
      "metadata": {
        "colab": {
          "base_uri": "https://localhost:8080/"
        },
        "id": "F_WDDmonm7Er",
        "outputId": "2aaad625-094a-46ea-dfd9-f9df185d0e7e"
      },
      "execution_count": 24,
      "outputs": [
        {
          "output_type": "stream",
          "name": "stdout",
          "text": [
            "pythons are large\n"
          ]
        }
      ]
    },
    {
      "cell_type": "code",
      "source": [
        "#arithmetic operators\n",
        "\n",
        "x=5\n",
        "y=3\n",
        "print(x+y)\n",
        "\n",
        "sum=(x+y)\n",
        "sum"
      ],
      "metadata": {
        "colab": {
          "base_uri": "https://localhost:8080/"
        },
        "id": "1-wbhUNzntEr",
        "outputId": "02fe8562-7c48-4b52-f9dd-ad339a3d543a"
      },
      "execution_count": 25,
      "outputs": [
        {
          "output_type": "stream",
          "name": "stdout",
          "text": [
            "8\n"
          ]
        },
        {
          "output_type": "execute_result",
          "data": {
            "text/plain": [
              "8"
            ]
          },
          "metadata": {},
          "execution_count": 25
        }
      ]
    },
    {
      "cell_type": "code",
      "source": [
        "#assignment operators\n",
        "a, b, c=0, -1, 6\n",
        "c%=3\n",
        "c"
      ],
      "metadata": {
        "colab": {
          "base_uri": "https://localhost:8080/"
        },
        "id": "IXuFmCJSoVdj",
        "outputId": "9c5ad823-263b-485b-e390-41c7a6867298"
      },
      "execution_count": 26,
      "outputs": [
        {
          "output_type": "execute_result",
          "data": {
            "text/plain": [
              "0"
            ]
          },
          "metadata": {},
          "execution_count": 26
        }
      ]
    },
    {
      "cell_type": "code",
      "source": [
        "#comparison and logical operators\n",
        "a,b,c=3,4,5\n",
        "a>b and c>b"
      ],
      "metadata": {
        "colab": {
          "base_uri": "https://localhost:8080/"
        },
        "id": "QIptcPwtpCYD",
        "outputId": "7f54bbb9-6790-4ee0-b540-44eda9e45476"
      },
      "execution_count": 30,
      "outputs": [
        {
          "output_type": "execute_result",
          "data": {
            "text/plain": [
              "False"
            ]
          },
          "metadata": {},
          "execution_count": 30
        }
      ]
    },
    {
      "cell_type": "code",
      "source": [
        "#identity operators\n",
        "a,b,c=0,-1,5\n",
        "a is c"
      ],
      "metadata": {
        "colab": {
          "base_uri": "https://localhost:8080/"
        },
        "id": "95wpMsgKp9fz",
        "outputId": "68f9c651-a0d7-4440-be39-af7218a80175"
      },
      "execution_count": 33,
      "outputs": [
        {
          "output_type": "execute_result",
          "data": {
            "text/plain": [
              "False"
            ]
          },
          "metadata": {},
          "execution_count": 33
        }
      ]
    },
    {
      "cell_type": "code",
      "source": [
        "#bitwise operators\n",
        "c=5\n",
        "c>>1"
      ],
      "metadata": {
        "colab": {
          "base_uri": "https://localhost:8080/"
        },
        "id": "ZKnY0AxgrZxW",
        "outputId": "6fe52ac0-b90d-43ee-d207-75810aecaf9c"
      },
      "execution_count": 35,
      "outputs": [
        {
          "output_type": "execute_result",
          "data": {
            "text/plain": [
              "2"
            ]
          },
          "metadata": {},
          "execution_count": 35
        }
      ]
    }
  ]
}