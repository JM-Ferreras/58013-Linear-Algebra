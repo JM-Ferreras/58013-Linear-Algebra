{
  "nbformat": 4,
  "nbformat_minor": 0,
  "metadata": {
    "colab": {
      "provenance": [],
      "authorship_tag": "ABX9TyOV2kU/nd8hwMkIhoj/TrHD",
      "include_colab_link": true
    },
    "kernelspec": {
      "name": "python3",
      "display_name": "Python 3"
    },
    "language_info": {
      "name": "python"
    }
  },
  "cells": [
    {
      "cell_type": "markdown",
      "metadata": {
        "id": "view-in-github",
        "colab_type": "text"
      },
      "source": [
        "<a href=\"https://colab.research.google.com/github/JM-Ferreras/58013-Linear-Algebra/blob/main/Long%20Quiz%201.ipynb\" target=\"_parent\"><img src=\"https://colab.research.google.com/assets/colab-badge.svg\" alt=\"Open In Colab\"/></a>"
      ]
    },
    {
      "cell_type": "code",
      "execution_count": 29,
      "metadata": {
        "colab": {
          "base_uri": "https://localhost:8080/"
        },
        "id": "VpHwqSR0Blde",
        "outputId": "55dfd3e1-64d2-40c2-a810-7b3b90783c23"
      },
      "outputs": [
        {
          "output_type": "stream",
          "name": "stdout",
          "text": [
            "A. AB (as numpy.dot(A,B))\n",
            "[[22 28]\n",
            " [49 64]]\n",
            "\n",
            "\n",
            "B. D+D (as D*2)\n",
            "[[2 4]\n",
            " [6 8]]\n",
            "B. Alternative) D+D as numpy.add(D,D)\n",
            "[[2 4]\n",
            " [6 8]]\n",
            "\n",
            "\n",
            "C. 2C (as C*2)\n",
            "[[ 2  4  6]\n",
            " [ 8 10 12]\n",
            " [14 16 18]]\n",
            "C. Alternative) numpy.add(C,C)\n",
            "[[ 2  4  6]\n",
            " [ 8 10 12]\n",
            " [14 16 18]]\n"
          ]
        }
      ],
      "source": [
        "import numpy as numpy\n",
        "\n",
        "#Prob 1\n",
        "A=numpy.array([[1,2,3],\n",
        "             [4,5,6]])\n",
        "\n",
        "B=numpy.array([[1,2],\n",
        "              [3,4],\n",
        "              [5,6]])\n",
        "\n",
        "print('A. AB (as numpy.dot(A,B))')\n",
        "print(numpy.dot(A,B))\n",
        "print('\\n')\n",
        "\n",
        "D=numpy.array([[1,2],\n",
        "               [3,4]])\n",
        "\n",
        "print('B. D+D (as D*2)')\n",
        "print(D*2)\n",
        "print('B. Alternative) D+D as numpy.add(D,D)')\n",
        "print(numpy.add(D,D))\n",
        "print('\\n')\n",
        "\n",
        "C=numpy.array([[1,2,3],\n",
        "               [4,5,6],\n",
        "               [7,8,9]])\n",
        "\n",
        "print('C. 2C (as C*2)')\n",
        "print(C*2)\n",
        "print('C. Alternative) numpy.add(C,C)')\n",
        "print(numpy.add(C,C))"
      ]
    },
    {
      "cell_type": "code",
      "source": [
        "import numpy as numpy\n",
        "\n",
        "#Prob2\n",
        "\n",
        "A=numpy.array([2,7,4])\n",
        "B=numpy.array([3,9,8])\n",
        "print(\"Cross product of A and B:\")\n",
        "print(numpy.cross(A,B))"
      ],
      "metadata": {
        "colab": {
          "base_uri": "https://localhost:8080/"
        },
        "id": "HoyJC4rJHI8m",
        "outputId": "14d755ae-2ffc-4356-fc9f-5041ec3b17e7"
      },
      "execution_count": 31,
      "outputs": [
        {
          "output_type": "stream",
          "name": "stdout",
          "text": [
            "Cross product of A and B:\n",
            "[20 -4 -3]\n"
          ]
        }
      ]
    }
  ]
}