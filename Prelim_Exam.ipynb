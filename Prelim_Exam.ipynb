{
  "nbformat": 4,
  "nbformat_minor": 0,
  "metadata": {
    "colab": {
      "provenance": [],
      "authorship_tag": "ABX9TyNndHAwhUVX5mXynQH/HQRC",
      "include_colab_link": true
    },
    "kernelspec": {
      "name": "python3",
      "display_name": "Python 3"
    },
    "language_info": {
      "name": "python"
    }
  },
  "cells": [
    {
      "cell_type": "markdown",
      "metadata": {
        "id": "view-in-github",
        "colab_type": "text"
      },
      "source": [
        "<a href=\"https://colab.research.google.com/github/JM-Ferreras/58013-Linear-Algebra/blob/main/Prelim_Exam.ipynb\" target=\"_parent\"><img src=\"https://colab.research.google.com/assets/colab-badge.svg\" alt=\"Open In Colab\"/></a>"
      ]
    },
    {
      "cell_type": "code",
      "execution_count": 3,
      "metadata": {
        "colab": {
          "base_uri": "https://localhost:8080/"
        },
        "id": "P11t2B3zuhMd",
        "outputId": "c224bf1b-bf4f-46a3-994b-15cd0b1946c8"
      },
      "outputs": [
        {
          "output_type": "stream",
          "name": "stdout",
          "text": [
            "[ 1  2  3  4  5  6  7  8  9 10]\n",
            "[ 2  4  6  8 10 12 14 16 18 20]\n",
            "[ 3  6  9 12 15 18 21 24 27 30]\n",
            "[ 4  8 12 16 20 24 28 32 36 40]\n",
            "[ 5 10 15 20 25 30 35 40 45 50]\n",
            "[ 6 12 18 24 30 36 42 48 54 60]\n",
            "[ 7 14 21 28 35 42 49 56 63 70]\n",
            "[ 8 16 24 32 40 48 56 64 72 80]\n",
            "[ 9 18 27 36 45 54 63 72 81 90]\n",
            "[ 10  20  30  40  50  60  70  80  90 100]\n"
          ]
        }
      ],
      "source": [
        "#Question 1) Create a Multiplication Table/Chart of 1 to 10 using numpy/ python program.\n",
        "\n",
        "import numpy as np\n",
        "\n",
        "row1= np.array([1,2,3,4,5,6,7,8,9,10])\n",
        "i=1\n",
        "while i<=10:\n",
        "  print(row1*i)\n",
        "  i+=1\n"
      ]
    },
    {
      "cell_type": "code",
      "source": [
        "#Question 2. (10 points) In relation to Question 1, show a solution that doubles all the values of each element.\n",
        "\n",
        "import numpy as np\n",
        "\n",
        "row1= np.array([1,2,3,4,5,6,7,8,9,10])\n",
        "i=1\n",
        "print(row1)\n",
        "while i<=10:\n",
        "  row1=row1*2\n",
        "  print(row1)\n",
        "  i+=1"
      ],
      "metadata": {
        "colab": {
          "base_uri": "https://localhost:8080/"
        },
        "id": "oIg43_YlwZ7B",
        "outputId": "46129955-9090-48df-ffa9-53a5425d929e"
      },
      "execution_count": 2,
      "outputs": [
        {
          "output_type": "stream",
          "name": "stdout",
          "text": [
            "[ 1  2  3  4  5  6  7  8  9 10]\n",
            "[ 2  4  6  8 10 12 14 16 18 20]\n",
            "[ 4  8 12 16 20 24 28 32 36 40]\n",
            "[ 8 16 24 32 40 48 56 64 72 80]\n",
            "[ 16  32  48  64  80  96 112 128 144 160]\n",
            "[ 32  64  96 128 160 192 224 256 288 320]\n",
            "[ 64 128 192 256 320 384 448 512 576 640]\n",
            "[ 128  256  384  512  640  768  896 1024 1152 1280]\n",
            "[ 256  512  768 1024 1280 1536 1792 2048 2304 2560]\n",
            "[ 512 1024 1536 2048 2560 3072 3584 4096 4608 5120]\n",
            "[ 1024  2048  3072  4096  5120  6144  7168  8192  9216 10240]\n"
          ]
        }
      ]
    },
    {
      "cell_type": "code",
      "source": [
        "#Question 3. (10 points) Create a square matrix that has a diagonal 1's.\n",
        "\n",
        "import numpy as np\n",
        "\n",
        "row1=np.array([[1,0,0,0,0],\n",
        "               [0,1,0,0,0],\n",
        "               [0,0,1,0,0],\n",
        "               [0,0,0,1,0],\n",
        "               [0,0,0,0,1]])\n",
        "print(row1)"
      ],
      "metadata": {
        "colab": {
          "base_uri": "https://localhost:8080/"
        },
        "id": "tZBWrgnTyxWm",
        "outputId": "cbf0957e-a111-4b9c-bcbb-48443ea59aad"
      },
      "execution_count": 3,
      "outputs": [
        {
          "output_type": "stream",
          "name": "stdout",
          "text": [
            "[[1 0 0 0 0]\n",
            " [0 1 0 0 0]\n",
            " [0 0 1 0 0]\n",
            " [0 0 0 1 0]\n",
            " [0 0 0 0 1]]\n"
          ]
        }
      ]
    },
    {
      "cell_type": "code",
      "source": [
        "#Question 4. (30 points) Create a matrix whose elements are:\n",
        "\n",
        "import numpy as np\n",
        "\n",
        "row1 = np.array([[1, 2, 3, 4],\n",
        "                   [5, 6, 7, 8],\n",
        "                   [9, 10, 11, 12]])\n",
        "\n",
        "print('Matrix size:',row1.size)\n",
        "print('Matrix shape:',row1.shape)\n",
        "print('Matrix Dimensions:',row1.ndim)"
      ],
      "metadata": {
        "colab": {
          "base_uri": "https://localhost:8080/"
        },
        "id": "5Wiqh-y9w0U4",
        "outputId": "ddfe93c5-9f8e-4fb8-f5e0-6ba46058d524"
      },
      "execution_count": 11,
      "outputs": [
        {
          "output_type": "stream",
          "name": "stdout",
          "text": [
            "Matrix size: 12\n",
            "Matrix shape: (3, 4)\n",
            "Matrix Dimensions: 2\n"
          ]
        }
      ]
    },
    {
      "cell_type": "code",
      "source": [
        "#Question 5. (30 points) Create a result array by adding the following two NumPy arrays. Next, modify the result array by calculating the square of each element.\n",
        "import numpy as np\n",
        "arr1=np.array([[5,6,9],[21,18,27]])\n",
        "arr2=np.array([[15,33,24],[4,7,1]])\n",
        "sum=np.add(arr1,arr2)\n",
        "print('Sum:\\n',sum,'\\n')\n",
        "sqr=sum**2\n",
        "print('Square of Sum:\\n',sqr)"
      ],
      "metadata": {
        "colab": {
          "base_uri": "https://localhost:8080/"
        },
        "id": "s20RXY5JzZpV",
        "outputId": "7bb6be06-82c3-4e76-8d8c-d21148da4980"
      },
      "execution_count": 9,
      "outputs": [
        {
          "output_type": "stream",
          "name": "stdout",
          "text": [
            "Sum:\n",
            " [[20 39 33]\n",
            " [25 25 28]] \n",
            "\n",
            "Square of Sum:\n",
            " [[ 400 1521 1089]\n",
            " [ 625  625  784]]\n"
          ]
        }
      ]
    }
  ]
}